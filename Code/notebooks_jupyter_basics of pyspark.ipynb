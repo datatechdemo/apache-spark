{
 "cells": [
  {
   "cell_type": "code",
   "execution_count": 1,
   "metadata": {},
   "outputs": [
    {
     "data": {
      "text/html": [
       "\n",
       "            <div>\n",
       "                <p><b>SparkSession - in-memory</b></p>\n",
       "                \n",
       "        <div>\n",
       "            <p><b>SparkContext</b></p>\n",
       "\n",
       "            <p><a href=\"http://cluster-datademo-m.us-east1-d.c.azure-data-source.internal:32907\">Spark UI</a></p>\n",
       "\n",
       "            <dl>\n",
       "              <dt>Version</dt>\n",
       "                <dd><code>v2.4.7</code></dd>\n",
       "              <dt>Master</dt>\n",
       "                <dd><code>yarn</code></dd>\n",
       "              <dt>AppName</dt>\n",
       "                <dd><code>Analyzing soccer players</code></dd>\n",
       "            </dl>\n",
       "        </div>\n",
       "        \n",
       "            </div>\n",
       "        "
      ],
      "text/plain": [
       "<pyspark.sql.session.SparkSession at 0x7fec747069d0>"
      ]
     },
     "execution_count": 1,
     "metadata": {},
     "output_type": "execute_result"
    }
   ],
   "source": [
    "from pyspark.sql import SparkSession\n",
    "from pyspark.sql.types import *\n",
    "from pyspark.sql.functions import * \n",
    "\n",
    "\n",
    "spark = SparkSession \\\n",
    "    .builder \\\n",
    "    .appName(\"Analyzing soccer players\") \\\n",
    "    .getOrCreate()\n",
    "\n",
    "spark"
   ]
  },
  {
   "cell_type": "markdown",
   "metadata": {},
   "source": [
    "# Loading DataFrames"
   ]
  },
  {
   "cell_type": "code",
   "execution_count": 32,
   "metadata": {},
   "outputs": [
    {
     "name": "stdout",
     "output_type": "stream",
     "text": [
      "root\n",
      " |-- id: integer (nullable = true)\n",
      " |-- player_api_id: integer (nullable = true)\n",
      " |-- player_name: string (nullable = true)\n",
      " |-- player_fifa_api_id: integer (nullable = true)\n",
      " |-- birthday: timestamp (nullable = true)\n",
      " |-- height: double (nullable = true)\n",
      " |-- weight: integer (nullable = true)\n",
      "\n",
      "root\n",
      " |-- id: integer (nullable = true)\n",
      " |-- player_fifa_api_id: integer (nullable = true)\n",
      " |-- player_api_id: integer (nullable = true)\n",
      " |-- date: timestamp (nullable = true)\n",
      " |-- overall_rating: integer (nullable = true)\n",
      " |-- potential: integer (nullable = true)\n",
      " |-- preferred_foot: string (nullable = true)\n",
      " |-- attacking_work_rate: string (nullable = true)\n",
      " |-- defensive_work_rate: string (nullable = true)\n",
      " |-- crossing: integer (nullable = true)\n",
      " |-- finishing: integer (nullable = true)\n",
      " |-- heading_accuracy: integer (nullable = true)\n",
      " |-- short_passing: integer (nullable = true)\n",
      " |-- volleys: integer (nullable = true)\n",
      " |-- dribbling: integer (nullable = true)\n",
      " |-- curve: integer (nullable = true)\n",
      " |-- free_kick_accuracy: integer (nullable = true)\n",
      " |-- long_passing: integer (nullable = true)\n",
      " |-- ball_control: integer (nullable = true)\n",
      " |-- acceleration: integer (nullable = true)\n",
      " |-- sprint_speed: integer (nullable = true)\n",
      " |-- agility: integer (nullable = true)\n",
      " |-- reactions: integer (nullable = true)\n",
      " |-- balance: integer (nullable = true)\n",
      " |-- shot_power: integer (nullable = true)\n",
      " |-- jumping: integer (nullable = true)\n",
      " |-- stamina: integer (nullable = true)\n",
      " |-- strength: integer (nullable = true)\n",
      " |-- long_shots: integer (nullable = true)\n",
      " |-- aggression: integer (nullable = true)\n",
      " |-- interceptions: integer (nullable = true)\n",
      " |-- positioning: integer (nullable = true)\n",
      " |-- vision: integer (nullable = true)\n",
      " |-- penalties: integer (nullable = true)\n",
      " |-- marking: integer (nullable = true)\n",
      " |-- standing_tackle: integer (nullable = true)\n",
      " |-- sliding_tackle: integer (nullable = true)\n",
      " |-- gk_diving: integer (nullable = true)\n",
      " |-- gk_handling: integer (nullable = true)\n",
      " |-- gk_kicking: integer (nullable = true)\n",
      " |-- gk_positioning: integer (nullable = true)\n",
      " |-- gk_reflexes: integer (nullable = true)\n",
      "\n"
     ]
    }
   ],
   "source": [
    "player_df =spark.read.option('header', True).option('inferSchema', True).csv('gs://dataproc-staging-us-east1-548550014762-rie5an4z/notebooks/jupyter/player.csv')\n",
    "player_df.printSchema()\n",
    "  \n",
    "player_attr_df =spark.read.option('header', True).option('inferSchema', True).csv('gs://dataproc-staging-us-east1-548550014762-rie5an4z/notebooks/jupyter/player_attributes.csv')\n",
    "player_attr_df.printSchema()\n",
    "  "
   ]
  },
  {
   "cell_type": "markdown",
   "metadata": {},
   "source": [
    "# Selecting  columns"
   ]
  },
  {
   "cell_type": "code",
   "execution_count": 33,
   "metadata": {},
   "outputs": [
    {
     "name": "stdout",
     "output_type": "stream",
     "text": [
      "+-------------+\n",
      "|player_api_id|\n",
      "+-------------+\n",
      "|505942       |\n",
      "|155782       |\n",
      "|162549       |\n",
      "|30572        |\n",
      "|23780        |\n",
      "+-------------+\n",
      "only showing top 5 rows\n",
      "\n",
      "+---+-------------+\n",
      "|id |player_api_id|\n",
      "+---+-------------+\n",
      "|1  |505942       |\n",
      "|2  |155782       |\n",
      "|3  |162549       |\n",
      "|4  |30572        |\n",
      "|5  |23780        |\n",
      "+---+-------------+\n",
      "only showing top 5 rows\n",
      "\n"
     ]
    }
   ],
   "source": [
    "df = player_df.select('player_api_id')\n",
    "df.show(5,False)\n",
    "player_df.select('id','player_api_id').show(5,False)"
   ]
  },
  {
   "cell_type": "markdown",
   "metadata": {},
   "source": [
    "# Add and update columns \n",
    "#### withColumn() is a DataFrame function that is used to add a new column to DataFrame, change the value of an existing column, convert the datatype of a column, derive a new column from an existing column\n"
   ]
  },
  {
   "cell_type": "code",
   "execution_count": 34,
   "metadata": {},
   "outputs": [
    {
     "name": "stdout",
     "output_type": "stream",
     "text": [
      "+---+-------------+------------------+------------------+-------------------+------+------+-------+\n",
      "|id |player_api_id|player_name       |player_fifa_api_id|birthday           |height|weight|country|\n",
      "+---+-------------+------------------+------------------+-------------------+------+------+-------+\n",
      "|1  |505942       |Aaron Appindangoye|218353            |1992-02-29 00:00:00|182.88|187   |USA    |\n",
      "|2  |155782       |Aaron Cresswell   |189615            |1989-12-15 00:00:00|170.18|146   |USA    |\n",
      "|3  |162549       |Aaron Doran       |186170            |1991-05-13 00:00:00|170.18|163   |USA    |\n",
      "|4  |30572        |Aaron Galindo     |140161            |1982-05-08 00:00:00|182.88|198   |USA    |\n",
      "|5  |23780        |Aaron Hughes      |17725             |1979-11-08 00:00:00|182.88|154   |USA    |\n",
      "+---+-------------+------------------+------------------+-------------------+------+------+-------+\n",
      "only showing top 5 rows\n",
      "\n",
      "+---+-------------+------------------+------------------+-------------------+------+------+-------+\n",
      "|id |player_api_id|player_name       |player_fifa_api_id|birthday           |height|weight|country|\n",
      "+---+-------------+------------------+------------------+-------------------+------+------+-------+\n",
      "|1  |505942       |Aaron Appindangoye|218353            |1992-02-29 00:00:00|72.0  |187   |USA    |\n",
      "|2  |155782       |Aaron Cresswell   |189615            |1989-12-15 00:00:00|67.0  |146   |USA    |\n",
      "|3  |162549       |Aaron Doran       |186170            |1991-05-13 00:00:00|67.0  |163   |USA    |\n",
      "|4  |30572        |Aaron Galindo     |140161            |1982-05-08 00:00:00|72.0  |198   |USA    |\n",
      "|5  |23780        |Aaron Hughes      |17725             |1979-11-08 00:00:00|72.0  |154   |USA    |\n",
      "+---+-------------+------------------+------------------+-------------------+------+------+-------+\n",
      "only showing top 5 rows\n",
      "\n"
     ]
    }
   ],
   "source": [
    "  \n",
    "player_df = player_df.withColumn(\"country\", lit(\"USA\"))\n",
    "player_df.show(5,False)  \n",
    "player_df = player_df.withColumn(\"height\", col('height')/2.54)\n",
    "player_df.show(5,False)  \n",
    "  \n",
    "\n"
   ]
  },
  {
   "cell_type": "markdown",
   "metadata": {},
   "source": [
    "# Rename columns \n",
    "#### withColumnRenamed() function on DataFrame to change a column name. This is the most straight forward approach; this function takes two parameters; the first is your existing column name and the second is the new column name you wish for.\n"
   ]
  },
  {
   "cell_type": "code",
   "execution_count": 35,
   "metadata": {},
   "outputs": [
    {
     "name": "stdout",
     "output_type": "stream",
     "text": [
      "+---+-------------+------------------+------------------+-------------------+----------------+------+-------+\n",
      "|id |player_api_id|player_name       |player_fifa_api_id|birthday           |height_in_inches|weight|country|\n",
      "+---+-------------+------------------+------------------+-------------------+----------------+------+-------+\n",
      "|1  |505942       |Aaron Appindangoye|218353            |1992-02-29 00:00:00|72.0            |187   |USA    |\n",
      "|2  |155782       |Aaron Cresswell   |189615            |1989-12-15 00:00:00|67.0            |146   |USA    |\n",
      "|3  |162549       |Aaron Doran       |186170            |1991-05-13 00:00:00|67.0            |163   |USA    |\n",
      "|4  |30572        |Aaron Galindo     |140161            |1982-05-08 00:00:00|72.0            |198   |USA    |\n",
      "|5  |23780        |Aaron Hughes      |17725             |1979-11-08 00:00:00|72.0            |154   |USA    |\n",
      "+---+-------------+------------------+------------------+-------------------+----------------+------+-------+\n",
      "only showing top 5 rows\n",
      "\n"
     ]
    }
   ],
   "source": [
    "player_df = player_df.withColumnRenamed('height', 'height_in_inches')\n",
    "player_df.show(5,False)  \n",
    "  \n",
    " "
   ]
  },
  {
   "cell_type": "markdown",
   "metadata": {},
   "source": [
    "# Drop columns "
   ]
  },
  {
   "cell_type": "code",
   "execution_count": 36,
   "metadata": {},
   "outputs": [
    {
     "name": "stdout",
     "output_type": "stream",
     "text": [
      "root\n",
      " |-- id: integer (nullable = true)\n",
      " |-- player_api_id: integer (nullable = true)\n",
      " |-- player_name: string (nullable = true)\n",
      " |-- player_fifa_api_id: integer (nullable = true)\n",
      " |-- birthday: timestamp (nullable = true)\n",
      " |-- height_in_inches: double (nullable = true)\n",
      " |-- weight: integer (nullable = true)\n",
      " |-- country: string (nullable = false)\n",
      "\n",
      "root\n",
      " |-- player_api_id: integer (nullable = true)\n",
      " |-- player_name: string (nullable = true)\n",
      " |-- birthday: timestamp (nullable = true)\n",
      " |-- height_in_inches: double (nullable = true)\n",
      " |-- weight: integer (nullable = true)\n",
      " |-- country: string (nullable = false)\n",
      "\n"
     ]
    },
    {
     "data": {
      "text/plain": [
       "['player_api_id',\n",
       " 'date',\n",
       " 'overall_rating',\n",
       " 'finishing',\n",
       " 'heading_accuracy',\n",
       " 'volleys',\n",
       " 'dribbling',\n",
       " 'curve',\n",
       " 'free_kick_accuracy',\n",
       " 'long_passing',\n",
       " 'ball_control',\n",
       " 'acceleration',\n",
       " 'agility',\n",
       " 'reactions',\n",
       " 'shot_power',\n",
       " 'stamina',\n",
       " 'strength',\n",
       " 'long_shots',\n",
       " 'interceptions',\n",
       " 'positioning',\n",
       " 'vision',\n",
       " 'penalties',\n",
       " 'marking',\n",
       " 'standing_tackle',\n",
       " 'sliding_tackle',\n",
       " 'gk_diving',\n",
       " 'gk_handling',\n",
       " 'gk_kicking',\n",
       " 'gk_positioning',\n",
       " 'gk_reflexes']"
      ]
     },
     "execution_count": 36,
     "metadata": {},
     "output_type": "execute_result"
    }
   ],
   "source": [
    "player_df.printSchema()\n",
    "player_df = player_df.drop('id', 'player_fifa_api_id')\n",
    "player_df.printSchema()\n",
    "  \n",
    "player_attr_df = player_attr_df.drop(\n",
    "    'id', \n",
    "    'player_fifa_api_id', \n",
    "    'preferred_foot',\n",
    "    'attacking_work_rate',\n",
    "    'defensive_work_rate',\n",
    "    'crossing',\n",
    "    'jumping',\n",
    "    'sprint_speed',\n",
    "    'balance',\n",
    "    'aggression',\n",
    "    'short_passing',\n",
    "    'potential'\n",
    "   )\n",
    "player_attr_df.columns"
   ]
  },
  {
   "cell_type": "markdown",
   "metadata": {},
   "source": [
    "# When and otherwise function"
   ]
  },
  {
   "cell_type": "code",
   "execution_count": 37,
   "metadata": {},
   "outputs": [
    {
     "name": "stdout",
     "output_type": "stream",
     "text": [
      "+-------------+------------------+-------------------+----------------+------+-------+-------------+\n",
      "|player_api_id|player_name       |birthday           |height_in_inches|weight|country|region       |\n",
      "+-------------+------------------+-------------------+----------------+------+-------+-------------+\n",
      "|505942       |Aaron Appindangoye|1992-02-29 00:00:00|72.0            |187   |USA    |North America|\n",
      "|155782       |Aaron Cresswell   |1989-12-15 00:00:00|67.0            |146   |USA    |North America|\n",
      "|162549       |Aaron Doran       |1991-05-13 00:00:00|67.0            |163   |USA    |North America|\n",
      "|30572        |Aaron Galindo     |1982-05-08 00:00:00|72.0            |198   |USA    |North America|\n",
      "|23780        |Aaron Hughes      |1979-11-08 00:00:00|72.0            |154   |USA    |North America|\n",
      "+-------------+------------------+-------------------+----------------+------+-------+-------------+\n",
      "only showing top 5 rows\n",
      "\n"
     ]
    },
    {
     "data": {
      "text/plain": [
       "11060"
      ]
     },
     "execution_count": 37,
     "metadata": {},
     "output_type": "execute_result"
    }
   ],
   "source": [
    "player_df = player_df.withColumn(\"region\", when(col(\"country\") == \"USA\",\"North America\").otherwise(\"Unknown\"))\n",
    "player_df.show(5,False)\n",
    "player_df.count()"
   ]
  },
  {
   "cell_type": "markdown",
   "metadata": {},
   "source": [
    " # Where and Filter"
   ]
  },
  {
   "cell_type": "code",
   "execution_count": 46,
   "metadata": {},
   "outputs": [
    {
     "data": {
      "text/plain": [
       "790"
      ]
     },
     "execution_count": 46,
     "metadata": {},
     "output_type": "execute_result"
    }
   ],
   "source": [
    "  \n",
    "player_filtered_df = player_df.filter(col('weight')> 190)\n",
    "player_filtered_df.count()\n",
    "  "
   ]
  },
  {
   "cell_type": "markdown",
   "metadata": {},
   "source": [
    "# Distinct"
   ]
  },
  {
   "cell_type": "code",
   "execution_count": 39,
   "metadata": {},
   "outputs": [
    {
     "data": {
      "text/plain": [
       "11060"
      ]
     },
     "execution_count": 39,
     "metadata": {},
     "output_type": "execute_result"
    }
   ],
   "source": [
    " \n",
    "player_attr_df.select('player_api_id')\\\n",
    "                   .distinct()\\\n",
    "                   .count()\n",
    "  "
   ]
  },
  {
   "cell_type": "markdown",
   "metadata": {},
   "source": [
    "# Sort"
   ]
  },
  {
   "cell_type": "code",
   "execution_count": 40,
   "metadata": {},
   "outputs": [
    {
     "name": "stdout",
     "output_type": "stream",
     "text": [
      "+-------------+-----------------+-------------------+----------------+------+-------+-------------+\n",
      "|player_api_id|player_name      |birthday           |height_in_inches|weight|country|region       |\n",
      "+-------------+-----------------+-------------------+----------------+------+-------+-------------+\n",
      "|2625         |Patryk Rachwal,18|1981-01-27 00:00:00|69.0            |154   |USA    |North America|\n",
      "|2752         |Diego Mainz      |1982-12-29 00:00:00|74.0            |174   |USA    |North America|\n",
      "|2768         |Jose Dorado      |1982-07-10 00:00:00|71.0            |154   |USA    |North America|\n",
      "|2770         |Ignacio Gonzalez |1982-05-14 00:00:00|71.0            |161   |USA    |North America|\n",
      "|2790         |Alberto Rey      |1974-02-15 00:00:00|69.0            |163   |USA    |North America|\n",
      "+-------------+-----------------+-------------------+----------------+------+-------+-------------+\n",
      "only showing top 5 rows\n",
      "\n"
     ]
    }
   ],
   "source": [
    "\n",
    "player_df = player_df.orderBy('player_api_id')\n",
    "player_df.show(5, False)\n",
    "  "
   ]
  },
  {
   "cell_type": "markdown",
   "metadata": {},
   "source": [
    "# Aggregation fucntions"
   ]
  },
  {
   "cell_type": "code",
   "execution_count": 41,
   "metadata": {},
   "outputs": [
    {
     "name": "stdout",
     "output_type": "stream",
     "text": [
      "+-------------+------------------+------------------+------------------+\n",
      "|player_api_id|avg(finishing)    |avg(acceleration) |avg(shot_power)   |\n",
      "+-------------+------------------+------------------+------------------+\n",
      "|114503       |71.0              |80.0625           |74.4375           |\n",
      "|244128       |42.0              |65.33333333333333 |58.0              |\n",
      "|38395        |25.0              |47.0              |25.0              |\n",
      "|40574        |34.69230769230769 |60.0              |40.46153846153846 |\n",
      "|562698       |20.166666666666668|64.5              |40.166666666666664|\n",
      "|171094       |38.1              |63.15             |35.1              |\n",
      "|34239        |21.25             |58.0              |54.0              |\n",
      "|27484        |64.8695652173913  |75.30434782608695 |71.65217391304348 |\n",
      "|357220       |21.333333333333332|54.666666666666664|46.333333333333336|\n",
      "|166648       |82.3076923076923  |83.65384615384616 |77.1923076923077  |\n",
      "|265363       |53.0              |86.11764705882354 |73.47058823529412 |\n",
      "|41890        |72.22641509433963 |79.32075471698113 |76.54716981132076 |\n",
      "|243440       |53.666666666666664|75.0              |59.0              |\n",
      "|195413       |44.03333333333333 |71.53333333333333 |64.63333333333334 |\n",
      "|23271        |70.4              |72.3              |68.5              |\n",
      "|89476        |67.1              |72.9              |71.2              |\n",
      "|74757        |50.8235294117647  |70.17647058823529 |77.41176470588235 |\n",
      "|27974        |65.18181818181819 |55.86363636363637 |73.86363636363636 |\n",
      "|195263       |63.27272727272727 |72.81818181818181 |59.0              |\n",
      "|11317        |37.833333333333336|58.916666666666664|50.0              |\n",
      "|93341        |16.75             |32.0              |17.875            |\n",
      "|26708        |34.9              |59.7              |47.05             |\n",
      "|30654        |70.5              |78.5              |64.16666666666667 |\n",
      "|177496       |72.07142857142857 |73.07142857142857 |63.642857142857146|\n",
      "|689987       |41.0              |52.0              |52.0              |\n",
      "+-------------+------------------+------------------+------------------+\n",
      "only showing top 25 rows\n",
      "\n"
     ]
    }
   ],
   "source": [
    "player_attr_df_agg = player_attr_df.groupBy('player_api_id')\\\n",
    "                       .agg({\n",
    "                           'finishing':\"avg\",\n",
    "                           \"shot_power\":\"avg\",\n",
    "                           \"acceleration\":\"avg\"\n",
    "                       })\n",
    "player_attr_df_agg.show(25, False)\n",
    " "
   ]
  },
  {
   "cell_type": "markdown",
   "metadata": {},
   "source": [
    "# join"
   ]
  },
  {
   "cell_type": "code",
   "execution_count": 42,
   "metadata": {},
   "outputs": [
    {
     "name": "stdout",
     "output_type": "stream",
     "text": [
      "+-------------+------------------+-------------------+----------------+------+-------+-------------+-------------+-------------------+--------------+---------+----------------+-------+---------+-----+------------------+------------+------------+------------+-------+---------+----------+-------+--------+----------+-------------+-----------+------+---------+-------+---------------+--------------+---------+-----------+----------+--------------+-----------+\n",
      "|player_api_id|player_name       |birthday           |height_in_inches|weight|country|region       |player_api_id|date               |overall_rating|finishing|heading_accuracy|volleys|dribbling|curve|free_kick_accuracy|long_passing|ball_control|acceleration|agility|reactions|shot_power|stamina|strength|long_shots|interceptions|positioning|vision|penalties|marking|standing_tackle|sliding_tackle|gk_diving|gk_handling|gk_kicking|gk_positioning|gk_reflexes|\n",
      "+-------------+------------------+-------------------+----------------+------+-------+-------------+-------------+-------------------+--------------+---------+----------------+-------+---------+-----+------------------+------------+------------+------------+-------+---------+----------+-------+--------+----------+-------------+-----------+------+---------+-------+---------------+--------------+---------+-----------+----------+--------------+-----------+\n",
      "|505942       |Aaron Appindangoye|1992-02-29 00:00:00|72.0            |187   |USA    |North America|505942       |2016-02-18 00:00:00|67            |44       |71              |44     |51       |45   |39                |64          |49          |60          |59     |47       |55        |54     |76      |35        |70           |45         |54    |48       |65     |69             |69            |6        |11         |10        |8             |8          |\n",
      "|505942       |Aaron Appindangoye|1992-02-29 00:00:00|72.0            |187   |USA    |North America|505942       |2015-11-19 00:00:00|67            |44       |71              |44     |51       |45   |39                |64          |49          |60          |59     |47       |55        |54     |76      |35        |70           |45         |54    |48       |65     |69             |69            |6        |11         |10        |8             |8          |\n",
      "|505942       |Aaron Appindangoye|1992-02-29 00:00:00|72.0            |187   |USA    |North America|505942       |2015-09-21 00:00:00|62            |44       |71              |44     |51       |45   |39                |64          |49          |60          |59     |47       |55        |54     |76      |35        |41           |45         |54    |48       |65     |66             |69            |6        |11         |10        |8             |8          |\n",
      "|505942       |Aaron Appindangoye|1992-02-29 00:00:00|72.0            |187   |USA    |North America|505942       |2015-03-20 00:00:00|61            |43       |70              |43     |50       |44   |38                |63          |48          |60          |59     |46       |54        |54     |76      |34        |40           |44         |53    |47       |62     |63             |66            |5        |10         |9         |7             |7          |\n",
      "|505942       |Aaron Appindangoye|1992-02-29 00:00:00|72.0            |187   |USA    |North America|505942       |2007-02-22 00:00:00|61            |43       |70              |43     |50       |44   |38                |63          |48          |60          |59     |46       |54        |54     |76      |34        |40           |44         |53    |47       |62     |63             |66            |5        |10         |9         |7             |7          |\n",
      "|155782       |Aaron Cresswell   |1989-12-15 00:00:00|67.0            |146   |USA    |North America|155782       |2016-04-21 00:00:00|74            |53       |58              |40     |73       |70   |69                |68          |71          |79          |78     |67       |71        |79     |56      |62        |67           |60         |66    |59       |76     |75             |78            |14       |7          |9         |9             |12         |\n",
      "|155782       |Aaron Cresswell   |1989-12-15 00:00:00|67.0            |146   |USA    |North America|155782       |2016-04-07 00:00:00|74            |53       |58              |32     |73       |70   |69                |68          |71          |79          |78     |67       |71        |79     |56      |60        |67           |60         |66    |59       |76     |75             |78            |14       |7          |9         |9             |12         |\n",
      "|155782       |Aaron Cresswell   |1989-12-15 00:00:00|67.0            |146   |USA    |North America|155782       |2016-01-07 00:00:00|73            |52       |57              |29     |71       |68   |69                |68          |70          |79          |78     |67       |71        |79     |56      |59        |66           |58         |65    |59       |76     |75             |78            |14       |7          |9         |9             |12         |\n",
      "|155782       |Aaron Cresswell   |1989-12-15 00:00:00|67.0            |146   |USA    |North America|155782       |2015-12-24 00:00:00|73            |51       |57              |29     |71       |68   |69                |68          |70          |79          |78     |67       |71        |79     |56      |58        |66           |58         |65    |59       |76     |75             |78            |14       |7          |9         |9             |12         |\n",
      "|155782       |Aaron Cresswell   |1989-12-15 00:00:00|67.0            |146   |USA    |North America|155782       |2015-12-17 00:00:00|73            |51       |57              |29     |71       |68   |69                |68          |70          |79          |78     |67       |71        |79     |56      |58        |66           |58         |65    |59       |76     |75             |78            |14       |7          |9         |9             |12         |\n",
      "|155782       |Aaron Cresswell   |1989-12-15 00:00:00|67.0            |146   |USA    |North America|155782       |2015-10-16 00:00:00|73            |51       |57              |29     |71       |68   |69                |68          |70          |79          |78     |67       |71        |79     |56      |58        |66           |58         |65    |59       |76     |75             |78            |14       |7          |9         |9             |12         |\n",
      "|155782       |Aaron Cresswell   |1989-12-15 00:00:00|67.0            |146   |USA    |North America|155782       |2015-09-25 00:00:00|74            |51       |57              |29     |71       |68   |69                |68          |70          |80          |78     |67       |71        |79     |56      |58        |66           |58         |65    |59       |76     |75             |78            |14       |7          |9         |9             |12         |\n",
      "|155782       |Aaron Cresswell   |1989-12-15 00:00:00|67.0            |146   |USA    |North America|155782       |2015-09-21 00:00:00|73            |51       |57              |29     |67       |68   |69                |68          |68          |79          |78     |67       |71        |79     |56      |58        |66           |58         |65    |59       |76     |75             |78            |14       |7          |9         |9             |12         |\n",
      "|155782       |Aaron Cresswell   |1989-12-15 00:00:00|67.0            |146   |USA    |North America|155782       |2015-01-09 00:00:00|71            |50       |56              |28     |66       |67   |68                |67          |67          |79          |79     |71       |70        |79     |50      |56        |65           |57         |64    |58       |73     |72             |72            |13       |6          |8         |8             |11         |\n",
      "|155782       |Aaron Cresswell   |1989-12-15 00:00:00|67.0            |146   |USA    |North America|155782       |2014-12-05 00:00:00|71            |50       |56              |28     |66       |67   |68                |67          |67          |79          |79     |71       |70        |79     |50      |56        |65           |57         |64    |58       |73     |72             |72            |13       |6          |8         |8             |11         |\n",
      "|155782       |Aaron Cresswell   |1989-12-15 00:00:00|67.0            |146   |USA    |North America|155782       |2014-11-07 00:00:00|71            |50       |56              |28     |66       |67   |68                |67          |67          |79          |79     |71       |70        |79     |50      |56        |65           |57         |64    |58       |73     |72             |72            |13       |6          |8         |8             |11         |\n",
      "|155782       |Aaron Cresswell   |1989-12-15 00:00:00|67.0            |146   |USA    |North America|155782       |2014-09-18 00:00:00|70            |50       |51              |28     |66       |67   |68                |67          |66          |79          |79     |69       |70        |79     |50      |56        |62           |57         |64    |58       |73     |72             |72            |13       |6          |8         |8             |11         |\n",
      "|155782       |Aaron Cresswell   |1989-12-15 00:00:00|67.0            |146   |USA    |North America|155782       |2014-05-02 00:00:00|70            |50       |51              |28     |66       |67   |68                |67          |66          |84          |81     |69       |70        |80     |50      |56        |62           |57         |64    |58       |73     |72             |72            |13       |6          |8         |8             |11         |\n",
      "|155782       |Aaron Cresswell   |1989-12-15 00:00:00|67.0            |146   |USA    |North America|155782       |2014-04-04 00:00:00|70            |50       |51              |28     |66       |67   |68                |67          |66          |84          |81     |69       |70        |80     |50      |56        |62           |57         |64    |58       |73     |72             |72            |13       |6          |8         |8             |11         |\n",
      "|155782       |Aaron Cresswell   |1989-12-15 00:00:00|67.0            |146   |USA    |North America|155782       |2014-03-14 00:00:00|70            |50       |51              |28     |66       |66   |68                |67          |65          |84          |81     |69       |70        |79     |49      |55        |62           |57         |61    |58       |73     |72             |72            |13       |6          |8         |8             |11         |\n",
      "|155782       |Aaron Cresswell   |1989-12-15 00:00:00|67.0            |146   |USA    |North America|155782       |2013-12-13 00:00:00|70            |50       |51              |28     |66       |66   |68                |67          |67          |84          |81     |71       |70        |79     |49      |55        |62           |57         |61    |58       |73     |72             |72            |13       |6          |8         |8             |11         |\n",
      "|155782       |Aaron Cresswell   |1989-12-15 00:00:00|67.0            |146   |USA    |North America|155782       |2013-11-08 00:00:00|70            |50       |51              |28     |66       |66   |68                |67          |67          |84          |81     |71       |70        |79     |49      |55        |62           |57         |61    |58       |73     |72             |72            |13       |6          |8         |8             |11         |\n",
      "|155782       |Aaron Cresswell   |1989-12-15 00:00:00|67.0            |146   |USA    |North America|155782       |2013-10-04 00:00:00|69            |50       |50              |28     |66       |66   |68                |65          |67          |84          |81     |70       |70        |77     |48      |55        |62           |56         |58    |58       |73     |72             |72            |13       |6          |8         |8             |11         |\n",
      "|155782       |Aaron Cresswell   |1989-12-15 00:00:00|67.0            |146   |USA    |North America|155782       |2013-09-20 00:00:00|69            |50       |50              |28     |66       |66   |68                |65          |67          |84          |81     |70       |70        |76     |48      |55        |62           |56         |58    |58       |73     |72             |72            |13       |6          |8         |8             |11         |\n",
      "|155782       |Aaron Cresswell   |1989-12-15 00:00:00|67.0            |146   |USA    |North America|155782       |2013-05-03 00:00:00|69            |50       |50              |28     |65       |65   |68                |65          |65          |84          |77     |70       |70        |74     |48      |55        |62           |56         |58    |58       |72     |72             |72            |13       |6          |8         |8             |11         |\n",
      "+-------------+------------------+-------------------+----------------+------+-------+-------------+-------------+-------------------+--------------+---------+----------------+-------+---------+-----+------------------+------------+------------+------------+-------+---------+----------+-------+--------+----------+-------------+-----------+------+---------+-------+---------------+--------------+---------+-----------+----------+--------------+-----------+\n",
      "only showing top 25 rows\n",
      "\n"
     ]
    }
   ],
   "source": [
    "#cond= player_df.player_api_id == player_attr_df.player_api_id and id ==id or date=date\n",
    "join_df = player_df.join( player_attr_df, player_df.player_api_id == player_attr_df.player_api_id , 'inner')\n",
    "join_df.show(25, False) \n",
    "  "
   ]
  },
  {
   "cell_type": "code",
   "execution_count": null,
   "metadata": {},
   "outputs": [],
   "source": []
  }
 ],
 "metadata": {
  "kernelspec": {
   "display_name": "Python 3",
   "language": "python",
   "name": "python3"
  },
  "language_info": {
   "codemirror_mode": {
    "name": "ipython",
    "version": 3
   },
   "file_extension": ".py",
   "mimetype": "text/x-python",
   "name": "python",
   "nbconvert_exporter": "python",
   "pygments_lexer": "ipython3",
   "version": "3.7.4"
  }
 },
 "nbformat": 4,
 "nbformat_minor": 2
}